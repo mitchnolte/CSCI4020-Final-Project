{
 "cells": [
  {
   "cell_type": "markdown",
   "id": "0a6ce0de-b5ab-4fe5-a7c7-22d728c68bf3",
   "metadata": {},
   "source": [
    "# CSCI 4020 Final Project - Demonstration of Language Features\n",
    "Mitch Nolte"
   ]
  },
  {
   "cell_type": "code",
   "execution_count": 1,
   "id": "2bbb7c12-2829-49a3-9a5c-e36170a77eca",
   "metadata": {},
   "outputs": [],
   "source": [
    "@file:DependsOn(\"/antlr-4.11.1-complete.jar\")\n",
    "@file:DependsOn(\"./target\")"
   ]
  },
  {
   "cell_type": "code",
   "execution_count": 2,
   "id": "55da6da5-7d6e-4e84-b484-cbf16c68474e",
   "metadata": {},
   "outputs": [],
   "source": [
    "import org.antlr.v4.runtime.*\n",
    "import backend.*"
   ]
  },
  {
   "cell_type": "code",
   "execution_count": 3,
   "id": "e2597db4-a086-4864-8640-a7b6e33e5824",
   "metadata": {},
   "outputs": [],
   "source": [
    "fun execute(source:String) {\n",
    "    val errorlistener = object: BaseErrorListener() {\n",
    "        override fun syntaxError(recognizer: Recognizer<*,*>,\n",
    "               offendingSymbol: Any?,\n",
    "               line: Int,\n",
    "               pos: Int,\n",
    "               msg: String,\n",
    "               e: RecognitionException?) {\n",
    "            throw Exception(\"${e} at line:${line}, char:${pos}\")\n",
    "        }\n",
    "    }\n",
    "    val input = CharStreams.fromString(source)\n",
    "    val lexer = PLLexer(input).apply {\n",
    "        removeErrorListeners()\n",
    "        addErrorListener(errorlistener)\n",
    "    }\n",
    "    val tokens = CommonTokenStream(lexer)\n",
    "    val parser = PLParser(tokens).apply {\n",
    "        removeErrorListeners()\n",
    "        addErrorListener(errorlistener)\n",
    "    }    \n",
    "    \n",
    "    try {\n",
    "        val result = parser.program()\n",
    "        result.e.eval(Runtime())\n",
    "    } catch(e:Exception) {\n",
    "        println(\"Error: ${e}\")\n",
    "    }\n",
    "}"
   ]
  },
  {
   "cell_type": "markdown",
   "id": "862a246d-780f-4d82-9ae6-aea2e3c78a69",
   "metadata": {},
   "source": [
    "## Basic Datatypes & Operations"
   ]
  },
  {
   "cell_type": "code",
   "execution_count": 4,
   "id": "65f01814-e72d-42ea-8608-e7174e928d6e",
   "metadata": {
    "tags": []
   },
   "outputs": [
    {
     "name": "stdout",
     "output_type": "stream",
     "text": [
      "Dog goes woof woof \n",
      "Area of circle with radius 5 is 78.537506\n",
      "area > 20: true\n"
     ]
    }
   ],
   "source": [
    "val program = \"\"\"\n",
    "string1 = \"Dog goes \";\n",
    "string2 = \"woof \";\n",
    "println(string1 ++ string2 * 2);\n",
    "\n",
    "pi = 3.1415;\n",
    "radius = 5;\n",
    "area = pi * radius*radius;\n",
    "greaterThan20 = area > 20.0;\n",
    "\n",
    "println(\n",
    "    \"Area of circle with radius \"\n",
    "    ++ radius ++ \" is \" ++ area\n",
    ");\n",
    "\n",
    "println(\"area > 20: \" ++ greaterThan20);\n",
    "\"\"\"\n",
    "\n",
    "execute(program)"
   ]
  },
  {
   "cell_type": "markdown",
   "id": "11fecd0d-9fb7-4203-a9b2-c33602ef14d8",
   "metadata": {},
   "source": [
    "## Conditionals"
   ]
  },
  {
   "cell_type": "code",
   "execution_count": 5,
   "id": "59758ef9-85d7-405b-8a34-f3d025f9ee0e",
   "metadata": {},
   "outputs": [
    {
     "name": "stdout",
     "output_type": "stream",
     "text": [
      "One of the numbers is large\n",
      "The string is not \"sTrInG\"\n"
     ]
    }
   ],
   "source": [
    "val program = \"\"\"\n",
    "x = 5;\n",
    "y = 6.0;\n",
    "s = \"string\";\n",
    "falseBool = false;\n",
    "\n",
    "if(x > 5 && y > 5.0) {\n",
    "    println(\"The numbers are large.\");\n",
    "} else if(x > 5 || y > 5.0) {\n",
    "    println(\"One of the numbers is large\");\n",
    "} else {\n",
    "    println(\"The numbers are small\");\n",
    "}\n",
    "\n",
    "if(!falseBool) {\n",
    "    if(s == \"sTrInG\") {\n",
    "        println(\"The string is \\\"sTrInG\\\"\");\n",
    "    } else {\n",
    "        println(\"The string is not \\\"sTrInG\\\"\");\n",
    "    }\n",
    "}\n",
    "\"\"\"\n",
    "\n",
    "execute(program)"
   ]
  },
  {
   "cell_type": "markdown",
   "id": "2e7f665f-d318-4b49-b3c8-c9e38c1430cb",
   "metadata": {},
   "source": [
    "## Collections"
   ]
  },
  {
   "cell_type": "code",
   "execution_count": 6,
   "id": "dc5f8815-2b2f-4515-adee-44fa70075a93",
   "metadata": {
    "tags": []
   },
   "outputs": [
    {
     "name": "stdout",
     "output_type": "stream",
     "text": [
      "[ 5, 4, 3, 2, 1 ]\n",
      "List element 2 = 3\n",
      "[ 5, 4, [ \"nested\", \"list\" ], \"string element\", 1 ]\n",
      "\n",
      "{ 100: \"one hundred\", false: 6, \"key\": \"value\", true: 5 }\n",
      "Value associated with true = 5\n",
      "{ 100: \"one hundred\", false: 6, \"key\": \"value\", true: \"new value\" }\n"
     ]
    }
   ],
   "source": [
    "val program = \"\"\"\n",
    "// Lists\n",
    "list = [5, 4, 3, 2, 1];\n",
    "println(list);\n",
    "println(\"List element 2 = \" ++ list[2]);\n",
    "\n",
    "list[3] = \"string element\";\n",
    "list[2] = [\"nested\", \"list\"];\n",
    "println(list);\n",
    "println();\n",
    "\n",
    "// Dictionaries\n",
    "dict = { \"key\": \"value\", true: 5, false: 6, 100: \"one hundred\" };\n",
    "println(dict);\n",
    "println(\"Value associated with true = \" ++ dict[true]);\n",
    "\n",
    "dict[true] = \"new value\";\n",
    "println(dict);\n",
    "\"\"\"\n",
    "\n",
    "execute(program)"
   ]
  },
  {
   "cell_type": "markdown",
   "id": "1b92c418-3217-4368-82a5-c6f233e0d1db",
   "metadata": {},
   "source": [
    "## For Loops"
   ]
  },
  {
   "cell_type": "code",
   "execution_count": 7,
   "id": "819019c1-3a40-428c-9dc4-c4b804c0526a",
   "metadata": {},
   "outputs": [
    {
     "name": "stdout",
     "output_type": "stream",
     "text": [
      "List sum = 194\n",
      "Dictionary sum = 159.94\n",
      "\n",
      "54321\n",
      "5432\n",
      "543\n",
      "54\n",
      "5\n"
     ]
    }
   ],
   "source": [
    "val program = \"\"\"\n",
    "list = [45, 62, 87];\n",
    "dict = {\"key 1\": 54.45, \"key 2\": 26.62, \"key 3\": 78.87};\n",
    "\n",
    "listSum = 0;\n",
    "for(element in list) {\n",
    "    listSum = listSum + element;\n",
    "}\n",
    "println(\"List sum = \" ++ listSum);\n",
    "\n",
    "dictSum = 0;\n",
    "for(key in dict) {\n",
    "    dictSum = dictSum + dict[key];\n",
    "}\n",
    "println(\"Dictionary sum = \" ++ dictSum);\n",
    "println();\n",
    "\n",
    "for(i in 1..5) {\n",
    "    for(j in 5..i) {\n",
    "        print(j);\n",
    "    }\n",
    "    println();\n",
    "}\n",
    "\"\"\"\n",
    "\n",
    "execute(program)"
   ]
  },
  {
   "cell_type": "markdown",
   "id": "a0a648d3-2bfc-4787-9409-53d0bfd117cb",
   "metadata": {},
   "source": [
    "## Functions"
   ]
  },
  {
   "cell_type": "code",
   "execution_count": 16,
   "id": "2b33d03d-73b4-4a51-ac5b-4a5e1df08371",
   "metadata": {},
   "outputs": [
    {
     "name": "stdout",
     "output_type": "stream",
     "text": [
      "Hi, my name is Albert\n",
      "How are you?\n"
     ]
    }
   ],
   "source": [
    "val program = \"\"\"\n",
    "function greeting(name, message) {\n",
    "    function introduction(firstName) {\n",
    "        \"Hi, my name is \" ++ firstName;\n",
    "    }\n",
    "\n",
    "    println(introduction(name));\n",
    "    println(message);\n",
    "}\n",
    "\n",
    "greeting(\"Albert\", \"How are you?\");\n",
    "\"\"\"\n",
    "\n",
    "execute(program)"
   ]
  },
  {
   "cell_type": "markdown",
   "id": "267846f4-b885-40a0-8e91-6666861e3937",
   "metadata": {},
   "source": [
    "## Recursion"
   ]
  },
  {
   "cell_type": "code",
   "execution_count": 17,
   "id": "8c486ac3-6d9d-49f9-ae02-011cfb2003b5",
   "metadata": {},
   "outputs": [
    {
     "name": "stdout",
     "output_type": "stream",
     "text": [
      "3628800\n"
     ]
    }
   ],
   "source": [
    "val program = \"\"\"\n",
    "function factorial(n) {\n",
    "    if(n < 2) {\n",
    "        1;\n",
    "    } else {\n",
    "        n * factorial(n-1);\n",
    "    }\n",
    "}\n",
    "\n",
    "println(factorial(10));\n",
    "\"\"\"\n",
    "\n",
    "execute(program)"
   ]
  }
 ],
 "metadata": {
  "kernelspec": {
   "display_name": "Kotlin",
   "language": "kotlin",
   "name": "kotlin"
  },
  "language_info": {
   "codemirror_mode": "text/x-kotlin",
   "file_extension": ".kt",
   "mimetype": "text/x-kotlin",
   "name": "kotlin",
   "nbconvert_exporter": "",
   "pygments_lexer": "kotlin",
   "version": "1.8.0-dev-707"
  }
 },
 "nbformat": 4,
 "nbformat_minor": 5
}
